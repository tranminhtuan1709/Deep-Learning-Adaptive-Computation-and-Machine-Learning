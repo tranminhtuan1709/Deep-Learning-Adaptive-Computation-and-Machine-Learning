{
 "cells": [
  {
   "cell_type": "markdown",
   "metadata": {},
   "source": [
    "# Table of Contents\n",
    "* [2.1. Scalars, Vectors, Matrices and Tensors](#2.1)"
   ]
  },
  {
   "cell_type": "markdown",
   "metadata": {},
   "source": [
    "<a id='2.1'> </a>\n",
    "\n",
    "# 2.1. Scalars, Vectors, Matrices and Tensors"
   ]
  },
  {
   "cell_type": "markdown",
   "metadata": {},
   "source": [
    "> Scalar"
   ]
  },
  {
   "cell_type": "markdown",
   "metadata": {},
   "source": [
    "* A scalar is just a single number.\n",
    "* Notation : $x$\n",
    "* Names of scalars should be in lower-case.\n",
    "* It is needed to specify the kind of scalars (integer, real number...)."
   ]
  },
  {
   "cell_type": "markdown",
   "metadata": {},
   "source": [
    "> Vector"
   ]
  },
  {
   "cell_type": "markdown",
   "metadata": {},
   "source": [
    "* A vector is an array of numbers arranged in order.\n",
    "* Vectors are written in lower-case and bold typeface like $\\boldsymbol{x}$.\n",
    "* $x_i$ : The *i-th* element of vector $\\boldsymbol{x}$, written in lower-case and italic typeface with a subscript.\n",
    "* Specify the kind of vectors : $\\N^n$, $\\R^n$,...\n",
    "* Explicitly identify vectors : \n",
    "\n",
    "$$\\boldsymbol{x}=\\begin{bmatrix}x_1 \\\\ x_2 \\\\ . \\\\ . \\\\ . \\\\ x_n\\end{bmatrix}$$\n",
    "\n",
    "* $S=\\{1, 3, 6\\}$ : A set of indices 1, 3, and 6.\n",
    "* $x_S$ : A set of elements at indices in $S$, $x_S=\\{x_1, x_3, x_6\\}$.\n",
    "* $x_{-S}$ : A set of elements in vector $x$ except the ones at indices 1, 3, 6."
   ]
  },
  {
   "cell_type": "markdown",
   "metadata": {},
   "source": [
    "> Matrices"
   ]
  },
  {
   "cell_type": "markdown",
   "metadata": {},
   "source": [
    "* A matrix is a 2-D array of numbers, each element is identified by 2 indices.\n",
    "* Notation : $\\boldsymbol{A}$\n",
    "* Specify the kind of matrices : $N^{m\\times n}$, $\\R^{m\\times n}$,...\n",
    "* Identify elements of matrices : $A_{m, n}$\n",
    "* Explicitply indentify matrices : \n",
    "\n",
    "$$\\begin{bmatrix}\n",
    "A_{1,1} & A_{1,2} \\\\\n",
    "A_{2,1} & A_{2,2}\n",
    "\\end{bmatrix}$$\n",
    "\n",
    "* $f(\\mathbf{A})_{i,j}$ : Element $(i, j)$ of the matrix computed by applying the function $f$ to **A**.\n",
    "* *Transpose* operation : Convert columns to rows and vice versa : \n",
    "\n",
    "$$\\boldsymbol{A}=\n",
    "\\begin{bmatrix}\n",
    "A_{1,1} & A_{1,2} \\\\\n",
    "A_{2,1} & A_{2,2} \\\\\n",
    "A_{3,1} & A_{3,2}\n",
    "\\end{bmatrix}\n",
    "\\Rightarrow \\boldsymbol{A^\\top}=\n",
    "\\begin{bmatrix}\n",
    "A_{1,1} & A_{2,1} & A_{3,1} \\\\\n",
    "A_{1,2} & A_{2,2} & A_{3,2}\n",
    "\\end{bmatrix}$$\n",
    "\n",
    "$$\\big(\\boldsymbol{A}^\\top\\big)_{i,j}=A_{j,i}$$"
   ]
  },
  {
   "cell_type": "markdown",
   "metadata": {},
   "source": [
    "> Tensors"
   ]
  },
  {
   "cell_type": "markdown",
   "metadata": {},
   "source": [
    "* A tensor is an array with more than 2 axes.\n",
    "* Notation : $\\mathbf{A}$\n",
    "* Identify elements : $A_{i,j,k}$"
   ]
  },
  {
   "cell_type": "markdown",
   "metadata": {},
   "source": [
    "> Operations with scarlars, vectors, matrices"
   ]
  },
  {
   "cell_type": "markdown",
   "metadata": {},
   "source": [
    "* Add 2 matrices : $\\boldsymbol{C} = \\boldsymbol{A} + \\boldsymbol{B}\\quad$ where $\\quad C_{i,j} = A_{i,j} + B_{i,j}$\n",
    "* Add / multiply matrices and scalars : $\\boldsymbol{D} = a\\times \\boldsymbol{B} + c\\quad$ where $\\quad D_{i,j}=a\\times B_{i,j} + c$\n",
    "* Add vectors and matrices : $\\boldsymbol{C} = \\boldsymbol{A} + \\boldsymbol{b}\\quad$ where $\\quad C_{i,j} = A_{i,j} + b_j$"
   ]
  },
  {
   "cell_type": "markdown",
   "metadata": {},
   "source": [
    "<a id='2.2'> </a>\n",
    "\n",
    "# 2.2 Multiplying Matrices and Vectors"
   ]
  },
  {
   "cell_type": "markdown",
   "metadata": {},
   "source": [
    "Condition : the number of columns of $\\boldsymbol{A}$ $=$ the number of columns of $\\boldsymbol{B}$ $\\big(\\boldsymbol{A} \\in m \\times n$ and $\\boldsymbol{B} \\in n \\times p\\big)$\n",
    "\n",
    "Notation : \n",
    "\n",
    "$$\\boldsymbol{C} = \\boldsymbol{A}\\boldsymbol{B}$$\n",
    "\n",
    "Where : \n",
    "\n",
    "$$C_{i,j}=\\sum_{k}A_{i,k}B_{kj}$$\n",
    "\n",
    "Explaination : Take rows of $\\boldsymbol{A}$ then multiply with cplumns of $\\boldsymbol{B}$\n",
    "\n",
    "Dot product :\n",
    "\n",
    "$$\\boldsymbol{A} \\odot \\boldsymbol{B} = \\boldsymbol{C} \\quad where \\quad C_{i,j} = A_{i,j} \\times B_{i,j}$$\n",
    "\n",
    "Properties of matrix product operation :\n",
    "* $\\boldsymbol{A}(\\boldsymbol{B} + \\boldsymbol{C}) = \\boldsymbol{A}\\boldsymbol{B} + \\boldsymbol{A}\\boldsymbol{C}$\n",
    "* $\\boldsymbol{A}(\\boldsymbol{B}\\boldsymbol{C}) = (\\boldsymbol{A}\\boldsymbol{B})\\boldsymbol{C}$\n",
    "* $\\boldsymbol{x}^\\top\\boldsymbol{y} = \\boldsymbol{y}^\\top\\boldsymbol{x}$\n",
    "* $(\\boldsymbol{A}\\boldsymbol{B})^\\top = \\boldsymbol{B}^\\top\\boldsymbol{A}^\\top$\n",
    "\n",
    "Linear equation :\n",
    "\n",
    "$$\\boldsymbol{A}\\boldsymbol{x} = \\boldsymbol{b}$$"
   ]
  },
  {
   "cell_type": "markdown",
   "metadata": {},
   "source": [
    "<a id='2.3'> </a>\n",
    "\n",
    "# 2.3. Identity and Inverse Matrices"
   ]
  },
  {
   "cell_type": "markdown",
   "metadata": {},
   "source": []
  }
 ],
 "metadata": {
  "language_info": {
   "name": "python"
  }
 },
 "nbformat": 4,
 "nbformat_minor": 2
}
